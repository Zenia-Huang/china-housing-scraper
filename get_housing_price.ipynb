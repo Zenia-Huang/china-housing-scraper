{
 "cells": [
  {
   "cell_type": "code",
   "execution_count": 1,
   "id": "63071e5e-97d4-4dd2-b0df-05a2ed587857",
   "metadata": {},
   "outputs": [],
   "source": [
    "import requests\n",
    "import re\n",
    "import csv\n",
    "import os"
   ]
  },
  {
   "cell_type": "code",
   "execution_count": 1,
   "id": "9348be52-02e2-4691-a67d-5d945eff3d3a",
   "metadata": {},
   "outputs": [],
   "source": [
    "#输入需要提取的网址\n",
    "url = \"https://mobile.anjuke.com/fangjia/zhejiang2018/\""
   ]
  },
  {
   "cell_type": "code",
   "execution_count": 3,
   "id": "c72b9c3c-0dcc-4bc5-b16f-54f3490d32c3",
   "metadata": {},
   "outputs": [],
   "source": [
    "headers = {\n",
    "    \"User-Agent\": \"Mozilla/5.0 (Windows NT 10.0; Win64; x64)\"\n",
    "}\n",
    "response = requests.get(url, headers=headers)\n",
    "html = response.text"
   ]
  },
  {
   "cell_type": "code",
   "execution_count": 4,
   "id": "7ca07e9b-301c-4872-a4b3-79adba56eb40",
   "metadata": {},
   "outputs": [],
   "source": [
    "# 正则：从结构化 JSON 中提取 title 和 avgPrice\n",
    "pattern = re.compile(r'\"title\":\"2018年(.+?)房价\".+?\"avgPrice\":\"(\\d+)\"')\n",
    "matches = pattern.findall(html)"
   ]
  },
  {
   "cell_type": "code",
   "execution_count": 5,
   "id": "320e85e1-8e26-4ffa-b6a2-0e5acabde329",
   "metadata": {},
   "outputs": [],
   "source": [
    "# 去重（某些城市在网页中可能重复两次）\n",
    "city_price = {}\n",
    "for city, price in matches:\n",
    "    city_price[city] = int(price)"
   ]
  },
  {
   "cell_type": "code",
   "execution_count": 6,
   "id": "bc53aef8-c2eb-447c-945c-8bbcb51787c0",
   "metadata": {
    "scrolled": true
   },
   "outputs": [
    {
     "name": "stdout",
     "output_type": "stream",
     "text": [
      "提取到的城市和房价如下：\n",
      "浙江房价排名（由高到低）\",\"actionUrl\":\"https://mobile.anjuke.com/fangjia/zhejiang2018/\",\"priceVOList\":[{\"title\":\"2018年杭州: 28651\n",
      "宁波: 20313\n",
      "义乌: 20175\n",
      "温州: 19462\n",
      "金华: 16595\n",
      "舟山: 16406\n",
      "绍兴: 13917\n",
      "台州: 13446\n",
      "衢州: 13189\n",
      "嘉兴: 10998\n",
      "湖州: 10622\n",
      "丽水: 9734\n",
      "浙江房价排名（由低到高）\",\"actionUrl\":\"https://mobile.anjuke.com/fangjia/zhejiang2018/\",\"priceVOList\":[{\"title\":\"2018年丽水: 9734\n",
      "杭州: 28651\n"
     ]
    }
   ],
   "source": [
    "# 打印提取结果\n",
    "print(\"提取到的城市和房价如下：\")\n",
    "for city, price in city_price.items():\n",
    "    print(f\"{city}: {price}\")"
   ]
  },
  {
   "cell_type": "code",
   "execution_count": 7,
   "id": "570fe94e-e433-4b3b-98df-fe64583fda63",
   "metadata": {},
   "outputs": [
    {
     "name": "stdout",
     "output_type": "stream",
     "text": [
      "CSV文件已保存至：Empirical\\data\\raw\\zhejiang_2018_avgprice.csv\n"
     ]
    }
   ],
   "source": [
    "# 路径处理\n",
    "output_dir = os.path.join(\"Empirical\", \"data\", \"raw\")\n",
    "os.makedirs(output_dir, exist_ok=True)\n",
    "output_path = os.path.join(output_dir, \"zhejiang_2018_avgprice.csv\")\n",
    "\n",
    "# 写入 CSV\n",
    "with open(output_path, 'w', newline='', encoding='utf-8-sig') as f:\n",
    "    writer = csv.writer(f)\n",
    "    writer.writerow(['城市', '平均房价（元/㎡）'])\n",
    "    for city, price in city_price.items():\n",
    "        writer.writerow([city, price])\n",
    "print(f\"CSV文件已保存至：{output_path}\")"
   ]
  },
  {
   "cell_type": "code",
   "execution_count": null,
   "id": "ead845e8-ff9c-4bbf-af15-40652df94b8d",
   "metadata": {},
   "outputs": [],
   "source": []
  }
 ],
 "metadata": {
  "kernelspec": {
   "display_name": "Python 3 (ipykernel)",
   "language": "python",
   "name": "python3"
  },
  "language_info": {
   "codemirror_mode": {
    "name": "ipython",
    "version": 3
   },
   "file_extension": ".py",
   "mimetype": "text/x-python",
   "name": "python",
   "nbconvert_exporter": "python",
   "pygments_lexer": "ipython3",
   "version": "3.12.7"
  }
 },
 "nbformat": 4,
 "nbformat_minor": 5
}
